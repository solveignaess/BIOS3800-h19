{
 "cells": [
  {
   "cell_type": "markdown",
   "metadata": {},
   "source": [
    "# Signals and samples"
   ]
  },
  {
   "cell_type": "markdown",
   "metadata": {},
   "source": [
    "<div class=\"alert alert-block alert-info\">\n",
    "\n",
    "This is a jupyter notebook. The notebook consists of text and code cells.\n",
    "Each code cell can be run by clicking on the cell (gray box), before clicking the\n",
    "play-button on the top of the page or pressing \"shift + enter\".\n",
    "\n",
    "The code cells contain small programs written in the programming language Python.\n",
    "We are going to use these programs to study the relation between signal frequencies and sampling rates.\n",
    "You don't need any prerequisite programming knowledge for doing these tasks.\n",
    "Follow the instructions and ask the TAs for help whenever you have questions."
   ]
  },
  {
   "cell_type": "markdown",
   "metadata": {},
   "source": [
    "<div class=\"alert alert-block alert-info\">\n",
    "You will work in groups of three.\n",
    "\n",
    "Start by making a copy of this file: Click on File; Make a copy.\n",
    "Change the name of the file to: FamilynameFirstname_FamilynameFirstname_FamilynameFirstname_computinglab1.ipynb \n",
    "If your group consist of Harry Potter, Kristine Bonnevie and Isaac Newton, the filename should be: PotterHarry_BonnevieKristine_NewtonIsaac_computinglab1.ipynb\n",
    "\n",
    "This file should be handed in on CANVAS under Computational Lab 1: Neurosimulation"
   ]
  },
  {
   "cell_type": "markdown",
   "metadata": {},
   "source": [
    "## Reconstructing a sentence\n",
    "A sentence is made up of words, which again are made up of the letters of the\n",
    "alphabet. Any sentence can be completely expressed by\n",
    "a set of letters. But what if we are missing some letters from a sentence,\n",
    "can we still read its content? Can we be sure that we correctly reconstruct the\n",
    "original sentence from the incomplete sentence?\n",
    "\n",
    "\n",
    "To experiment, we will now load an unknown sentence from the text file `sentence.txt`,\n",
    "Do not look at the its content yet, as we want to see how many letters we\n",
    "can remove while still being able to read it."
   ]
  },
  {
   "cell_type": "code",
   "execution_count": null,
   "metadata": {},
   "outputs": [],
   "source": [
    "# loading the sentence\n",
    "sentence = ' '.join(open('sentence.txt', 'r').read().splitlines())"
   ]
  },
  {
   "cell_type": "markdown",
   "metadata": {},
   "source": [
    "To be able to delete letters in a systematic way, we convert the sentence to a\n",
    "list. Then we can use the function named `del` to delete content.\n",
    "\n",
    "In order only remove some of the characters, we use the the slicing notation together with the `del` function. `[::2]`, for example, means that we access every other character, `[::3]` means we access every third character, and so on. Applied with the `del`function, this means that we remove every other or every third character. So if we have a string variable `some_phrase = 'HelloKai\"`, and apply `del(some_phrase[::3])`, this will remove one \"l\" and the \"K\" such that you end up with `some_phrase = 'Heloai'`. Now you will do the same with the loaded sentence. \n",
    "\n",
    "When you execute the cell below, you will see the sentence you end up with after deleting every other character."
   ]
  },
  {
   "cell_type": "code",
   "execution_count": null,
   "metadata": {},
   "outputs": [],
   "source": [
    "# Converting sentence to a list\n",
    "sampled_sentence = list(sentence)\n",
    "\n",
    "# Setting the slicing_number\n",
    "slicing_number = 2\n",
    "\n",
    "del(sampled_sentence[::slicing_number])\n",
    "# Put the sentence back together as a readable string\n",
    "''.join(sampled_sentence)"
   ]
  },
  {
   "cell_type": "markdown",
   "metadata": {},
   "source": [
    "<!-- --- begin exercise --- -->\n",
    "\n",
    "## Exercise 1: Discussion\n",
    "\n",
    "Try to determine what the sentence says together in your groups.\n",
    "If you can't make sense of it, try increasing the variable named `slicing_number` one step at a time and rerun the cell.\n",
    "\n",
    "\n",
    "**a)**\n",
    "Do you come up with different answers?\n",
    "When does the sentence go from unreadable to readable?\n",
    "\n",
    "\n",
    "Discuss what may happen if you try to reconstruct\n",
    "the sentence with too many letters missing.\n",
    "\n",
    "\n",
    "\n",
    "<!-- Closing remarks for this Exercise -->\n",
    "\n",
    "### Remarks:\n",
    "\n",
    "When you are unsure of what the sentence say, or you have two equally likely\n",
    "answers, we can say that the sentence is impossible to reconstruct from the\n",
    "sampled sentence.\n",
    "\n",
    "Once you're done experimenting with the slicing number you can check what the true sentence is by erasing the hashtag in the cell below and running it.\n",
    "\n",
    "\n",
    "<!-- --- end exercise --- -->"
   ]
  },
  {
   "cell_type": "code",
   "execution_count": null,
   "metadata": {},
   "outputs": [],
   "source": [
    "#sentence"
   ]
  },
  {
   "cell_type": "markdown",
   "metadata": {},
   "source": [
    "## Reconstructing a signal\n",
    "\n",
    "What's the connection between reconstructing sentences and signal analysis? Well, when you record something, for example in the next lab on measuring muscle contraction, and convert the measured signal to the digital form that's readable for computers, you can't have an infinite number of samples. You have to settle for a finite number of measurements. This means that you are inevitably going to lose some parts of the original, true signal.\n",
    "\n",
    "The question then becomes: How often do you have to perform measurements to be sure that you haven't lost any vital information? This is what we'll be working on in this lab. But first, some background on the differences between the original, physical signal and the digital signal on your computer."
   ]
  },
  {
   "cell_type": "code",
   "execution_count": null,
   "metadata": {},
   "outputs": [],
   "source": [
    "# We begin by importing some packages that can help us analyse and visualize data. Remember to run this cell before\n",
    "# you run any of the cells further down\n",
    "\n",
    "from pylab import *\n",
    "from scipy import signal\n",
    "import librosa\n",
    "import librosa.display\n",
    "import IPython.display as ipd\n",
    "%matplotlib inline\n",
    "rcParams['figure.figsize'] = (7, 5)"
   ]
  },
  {
   "cell_type": "markdown",
   "metadata": {},
   "source": [
    "In the physical world signals are continuous. No matter how much you zoom in on a signal, the parts of the signal are still connected. This is sometimes referred to as an analog signal. Digital signals, on the other hand, are dicontinuous, or discretized. This means that they are composed of a series of discrete bits, and if you zoom in close enough you can see (or hear) that these bits are separated.\n",
    "\n",
    "To illustrate this, we will use a recording of a drummer making a racket (no offense to drummers).\n",
    "\n",
    "Run the cell below and press play to make some noise."
   ]
  },
  {
   "cell_type": "code",
   "execution_count": null,
   "metadata": {},
   "outputs": [],
   "source": [
    "# load a WAV file\n",
    "filename = 'simpleLoop.wav'\n",
    "\n",
    "ipd.Audio(filename) "
   ]
  },
  {
   "cell_type": "markdown",
   "metadata": {},
   "source": [
    "Since we are playing this recording on a computer, the signal from the drum recording has already been digitized here. Now, let's see what this digital signal looks like. Run the next two cells below to plot the amplitude of the signal over time."
   ]
  },
  {
   "cell_type": "code",
   "execution_count": null,
   "metadata": {},
   "outputs": [],
   "source": [
    "sound_drums, sample_rate_drums = librosa.load(filename)\n",
    "n_samples_drums = len(sound_drums)\n",
    "duration_drums = len(sound_drums) / sample_rate_drums\n",
    "time_drums = linspace(0, duration_drums, n_samples_drums)"
   ]
  },
  {
   "cell_type": "code",
   "execution_count": null,
   "metadata": {},
   "outputs": [],
   "source": [
    "plot(time_drums, sound_drums)\n",
    "xlabel('Time (s)')\n",
    "ylabel('Amplitude')"
   ]
  },
  {
   "cell_type": "markdown",
   "metadata": {},
   "source": [
    "As you can see there are large deflections at each beat, and there seems to be two different types of deflections. That's because the two different drums produce a distinctive signature in the signal. We'll get back to this later. For now we'll see what happens when we try to zoom in on the signal. \n",
    "\n",
    "You can alter what part of the signal you look at by changing the limits of the x-axis in the line that says `xlim` in the cell below. Try different values of the second number in `xlim` down to, say, 0.001."
   ]
  },
  {
   "cell_type": "code",
   "execution_count": null,
   "metadata": {},
   "outputs": [],
   "source": [
    "plot(time_drums, sound_drums)\n",
    "\n",
    "xlim([0, 0.01])\n",
    "\n",
    "xlabel('Time (s)')\n",
    "ylabel('Amplitude')"
   ]
  },
  {
   "cell_type": "markdown",
   "metadata": {},
   "source": [
    "How would you characterize the signal? Continuous or discrete? It still looks continuous, right?\n",
    "That's because the `plot` function draws a line between each sample of the signal.\n",
    "\n",
    "* We can turn this behavior off and only show each measured value (sample) of the signal by changing the `'-'` to `'.'` in the first line in the next cell. \n",
    "* If you also limit the part of the graph you look at enough, that is, reduce the second number in `xlim([0, 0.1])`, you will eventually see that the signal is made up of many, separated, dots."
   ]
  },
  {
   "cell_type": "code",
   "execution_count": null,
   "metadata": {},
   "outputs": [],
   "source": [
    "plot(time_drums, sound_drums, '-')\n",
    "xlim([0, 0.1])\n",
    "xlabel('Time (s)')\n",
    "ylabel('Amplitude')"
   ]
  },
  {
   "cell_type": "markdown",
   "metadata": {},
   "source": [
    "Now we're going to see (or rather, hear) what happens when we sample at different rates, which means to adjust how often you take measurements from the signal.\n",
    "\n",
    "Try changing the variable named `slicing_number` in the first line below and play the sampled recording. Remember to run the cell over again each time you change the slicing number. Note that unlike what we did for the letters, we're not deleting the points (letters earlier) at each slice now."
   ]
  },
  {
   "cell_type": "code",
   "execution_count": null,
   "metadata": {},
   "outputs": [],
   "source": [
    "slicing_number = 1\n",
    "sound_drums_sampled = sound_drums[::slicing_number]\n",
    "ipd.Audio(sound_drums_sampled, rate=len(sound_drums_sampled) / duration_drums)"
   ]
  },
  {
   "cell_type": "markdown",
   "metadata": {},
   "source": [
    "## Exercise 2: "
   ]
  },
  {
   "cell_type": "markdown",
   "metadata": {},
   "source": [
    "Can you explain what happens here? Try using the term \"<u>sampling rate</u>\" in your explanation, and one or two sentences should be enough.\n",
    "\n",
    "**Hint:** It can be helpful to use the plotting cell under \"**Plotting sampled sound**\", and be liberal with your slicing number."
   ]
  },
  {
   "cell_type": "markdown",
   "metadata": {},
   "source": [
    "Answer:"
   ]
  },
  {
   "cell_type": "markdown",
   "metadata": {},
   "source": [
    "#### Plotting sampled sound"
   ]
  },
  {
   "cell_type": "code",
   "execution_count": null,
   "metadata": {},
   "outputs": [],
   "source": [
    "time_for_sampled = np.linspace(0,duration_drums,len(sound_drums_sampled))\n",
    "\n",
    "plot(time_for_sampled, sound_drums_sampled, '.')\n",
    "xlim([0, 0.1])\n",
    "xlabel('Time (s)')\n",
    "ylabel('Amplitude')"
   ]
  },
  {
   "cell_type": "markdown",
   "metadata": {},
   "source": [
    "## Representing a signal as frequencies\n",
    "\n",
    "In the following we'll try to get to the bottom of how one can determine how often you should sample to be sure that you don't lose important information in the signal, and also learn how any you can decompose a measured signal into a sum of sinusoids at different frequencies.\n",
    "\n",
    "Before we continue, it is recommended that you watch the segment from about <u>0:50 to 2:30</u> in this video by 3Blue1Brown. If you don't have headphones or ear plugs with you, just watch it with subtitles.\n",
    "<!-- dom:MOVIE: [https://www.youtube.com/watch?v=spUNpyF58BY] -->\n",
    "<!-- begin movie -->"
   ]
  },
  {
   "cell_type": "code",
   "execution_count": null,
   "metadata": {},
   "outputs": [],
   "source": [
    "from IPython.display import HTML\n",
    "_s = \"\"\"\n",
    "<iframe width=\"640\" height=\"365\" src=\"https://www.youtube.com/embed/spUNpyF58BY\" frameborder=\"0\" allowfullscreen></iframe>\n",
    "\"\"\"\n",
    "HTML(_s)"
   ]
  },
  {
   "cell_type": "markdown",
   "metadata": {},
   "source": [
    "<!-- end movie -->\n",
    "\n",
    "\n",
    "The method we use to perform the decomposition described in the video is called the Fourier transform. The Fourier transform splits the signal into sinusoids of different frequencies, where the amplitude of these sinusoids represents how much there is of the respective frequency in the signal. This decomposition is based on an important property of continuous signals, which is that a continuous signal can always be represented as a sum of sinusoids of different frequencies.\n",
    "\n",
    "Later on we'll see how this translates to discretized signals and sampling frequencies, but first we will try to make our own signal from a sum of sinusoids."
   ]
  },
  {
   "cell_type": "markdown",
   "metadata": {},
   "source": [
    "## Example: Making a signal\n",
    "We can make a sinusoid signal by using the `sin` function. We start by determining how many samples pr. second the signal is going to have (that is, how many dots per second if we think of it in terms of the illustration above)."
   ]
  },
  {
   "cell_type": "code",
   "execution_count": null,
   "metadata": {},
   "outputs": [],
   "source": [
    "sample_rate_orig = 10000 # sample pr. second"
   ]
  },
  {
   "cell_type": "markdown",
   "metadata": {},
   "source": [
    "We set the duration in seconds"
   ]
  },
  {
   "cell_type": "code",
   "execution_count": null,
   "metadata": {},
   "outputs": [],
   "source": [
    "duration_orig = 2.0    # seconds"
   ]
  },
  {
   "cell_type": "markdown",
   "metadata": {},
   "source": [
    "The amplitude represents how loud the signal will be"
   ]
  },
  {
   "cell_type": "code",
   "execution_count": null,
   "metadata": {},
   "outputs": [],
   "source": [
    "amplitude_orig = 0.5"
   ]
  },
  {
   "cell_type": "markdown",
   "metadata": {},
   "source": [
    "The frequency determines the pitch"
   ]
  },
  {
   "cell_type": "code",
   "execution_count": null,
   "metadata": {},
   "outputs": [],
   "source": [
    "frequency_1 = 320"
   ]
  },
  {
   "cell_type": "markdown",
   "metadata": {},
   "source": [
    "And lastly, we need to set the time the signal is going to oscillate over. Since we're constructing this signal on a computer, and are thus constructing a digital signal, we will have to settle for a finite set of discrete time points. The total number of time points will be the sample rate (samples per second) multiplied with the total duration of the signal (in seconds). With the `linspace`function we can then construct an array (a kind of list of values) containing all the time points from the start (at 0 seconds) to the end (duration) with a fixed spacing between them."
   ]
  },
  {
   "cell_type": "code",
   "execution_count": null,
   "metadata": {},
   "outputs": [],
   "source": [
    "n_samples_orig = int(duration_orig * sample_rate_orig)\n",
    "time_orig = linspace(0, duration_orig, n_samples_orig) # array containing all the time points"
   ]
  },
  {
   "cell_type": "markdown",
   "metadata": {},
   "source": [
    "Now we have all the ingredients to make the signal:"
   ]
  },
  {
   "cell_type": "code",
   "execution_count": null,
   "metadata": {},
   "outputs": [],
   "source": [
    "sound_320 = amplitude_orig * sin(2 * pi * frequency_1 * time_orig)  # pure sine wave at 320 Hz"
   ]
  },
  {
   "cell_type": "markdown",
   "metadata": {},
   "source": [
    "If we plot it we can see that it is a completely normal sinusoid"
   ]
  },
  {
   "cell_type": "code",
   "execution_count": null,
   "metadata": {},
   "outputs": [],
   "source": [
    "plot(time_orig, sound_320)\n",
    "xlim([0, 0.1])\n",
    "xlabel('Time (s)')\n",
    "ylabel('Amplitude')"
   ]
  },
  {
   "cell_type": "markdown",
   "metadata": {},
   "source": [
    "If we zoom in and set on markers we can see the samples with the line drawn\n",
    "between"
   ]
  },
  {
   "cell_type": "code",
   "execution_count": null,
   "metadata": {},
   "outputs": [],
   "source": [
    "plot(time_orig, sound_320, '-*')\n",
    "xlim([0, .001])\n",
    "xlabel('Time (s)')\n",
    "ylabel('Amplitude')"
   ]
  },
  {
   "cell_type": "markdown",
   "metadata": {},
   "source": [
    "And what does this sinusoid sound like? **A word of advice: If you’re using headphones or earplugs, keep the volume down. The sound isn’t harmful in any way, but it can be annoying**"
   ]
  },
  {
   "cell_type": "code",
   "execution_count": null,
   "metadata": {},
   "outputs": [],
   "source": [
    "ipd.Audio(sound_320, rate=sample_rate_orig)"
   ]
  },
  {
   "cell_type": "markdown",
   "metadata": {},
   "source": [
    "<!-- --- end solution of exercise --- -->\n",
    "\n",
    "<!-- --- end exercise --- -->\n",
    "\n",
    "\n",
    "\n",
    "\n",
    "<!-- --- begin exercise --- -->\n",
    "\n",
    "## Exercise 3: The Sum of Sinusoids\n",
    "\n",
    "We now make a another sound with a frequency of 440 Hz."
   ]
  },
  {
   "cell_type": "code",
   "execution_count": null,
   "metadata": {},
   "outputs": [],
   "source": [
    "frequency_2 = 440\n",
    "sound_440 = amplitude_orig * sin(2 * pi * frequency_2 * time_orig)  # pure sine wave at 440 Hz"
   ]
  },
  {
   "cell_type": "code",
   "execution_count": null,
   "metadata": {},
   "outputs": [],
   "source": [
    "plot(time_orig, sound_440)\n",
    "xlim([0, 0.1])\n",
    "xlabel('Time (s)')\n",
    "ylabel('Amplitude')"
   ]
  },
  {
   "cell_type": "code",
   "execution_count": null,
   "metadata": {},
   "outputs": [],
   "source": [
    "ipd.Audio(sound_440, rate=sample_rate_orig)"
   ]
  },
  {
   "cell_type": "markdown",
   "metadata": {},
   "source": [
    "And then we make a new sound from the signal with a frequency of 320 Hz and signal with a frequency of 440 Hz simply by adding them together:"
   ]
  },
  {
   "cell_type": "code",
   "execution_count": null,
   "metadata": {},
   "outputs": [],
   "source": [
    "sound_sum = sound_440 + sound_320"
   ]
  },
  {
   "cell_type": "markdown",
   "metadata": {},
   "source": [
    "You can listen to this new sound by running the cell below"
   ]
  },
  {
   "cell_type": "code",
   "execution_count": null,
   "metadata": {},
   "outputs": [],
   "source": [
    "ipd.Audio(sound_sum, rate=sample_rate_orig)"
   ]
  },
  {
   "cell_type": "markdown",
   "metadata": {},
   "source": [
    "And plot it:"
   ]
  },
  {
   "cell_type": "code",
   "execution_count": null,
   "metadata": {},
   "outputs": [],
   "source": [
    "plot(time_orig, sound_sum)\n",
    "xlim([0, .1])\n",
    "xlabel('Time (s)')\n",
    "ylabel('Amplitude')"
   ]
  },
  {
   "cell_type": "markdown",
   "metadata": {},
   "source": [
    "**a)**\n",
    "Explain why the signal of the new sound looks like this (think back to the video)"
   ]
  },
  {
   "cell_type": "markdown",
   "metadata": {},
   "source": [
    "Answer:"
   ]
  },
  {
   "cell_type": "markdown",
   "metadata": {},
   "source": [
    "## Exercise 4: Fourier transform, spectrograms and periodograms/power spectrums"
   ]
  },
  {
   "cell_type": "markdown",
   "metadata": {},
   "source": [
    "Now we'll use the Fourier transform. Usually you will use a package (or other software) to perform this calculation for you, and that's also what we will do here. In the next cell the Fourier transform is applied to the sum of signals we constructed above. The result will be contained in the array `sound_frequency`."
   ]
  },
  {
   "cell_type": "code",
   "execution_count": null,
   "metadata": {},
   "outputs": [],
   "source": [
    "sound_frequency_sum = librosa.stft(sound_sum)"
   ]
  },
  {
   "cell_type": "markdown",
   "metadata": {},
   "source": [
    "Since sound is usually made up of some amplitudes that are very large and\n",
    "some very small, it can sometimes be hard to see the small ones together with\n",
    "the large ones. We therefore take the logarithm of the amplitudes, which adjusts the scaling and also gives\n",
    "us the amplitudes in the units Decibel (db)."
   ]
  },
  {
   "cell_type": "code",
   "execution_count": null,
   "metadata": {},
   "outputs": [],
   "source": [
    "sound_frequency_sum_db = librosa.amplitude_to_db(abs(sound_frequency_sum))"
   ]
  },
  {
   "cell_type": "markdown",
   "metadata": {},
   "source": [
    "A common way to visualize frequencies in a signal is to use a so-called spectrogram, which shows the\n",
    "presence of the various frequencies at different times. This is what's plotted in the cell below.\n",
    "\n",
    "In this plot the colors represent the Decibel, with high values in red and lower\n",
    "values in blue."
   ]
  },
  {
   "cell_type": "code",
   "execution_count": null,
   "metadata": {},
   "outputs": [],
   "source": [
    "librosa.display.specshow(sound_frequency_sum_db, sr=sample_rate_orig, x_axis='time', y_axis='hz', vmin = 0)\n",
    "ylim([0, 750])\n",
    "xlim([.2, 1.8])\n",
    "xlabel('Time (s)')\n",
    "ylabel('Frequency (Hz)')\n",
    "c = colorbar()\n",
    "c.set_label('dB')"
   ]
  },
  {
   "cell_type": "markdown",
   "metadata": {},
   "source": [
    "**b)** Explain what you see in this plot"
   ]
  },
  {
   "cell_type": "markdown",
   "metadata": {},
   "source": [
    "Answer:"
   ]
  },
  {
   "cell_type": "markdown",
   "metadata": {},
   "source": [
    "Another way to visualize the strength of frequencies is with a periodogram, which is a type of power spectrum. This is shown next. `PSD` on the y-axis stands for \"power spectrum density\" and is a measure of how strongly a frequency is represented in the signal."
   ]
  },
  {
   "cell_type": "code",
   "execution_count": null,
   "metadata": {},
   "outputs": [],
   "source": [
    "fig, psd_ax = plt.subplots()\n",
    "\n",
    "frequency, psd = signal.periodogram(sound_sum, sample_rate_orig)\n",
    "psd_ax.plot(frequency, psd)\n",
    "psd_ax.set_xlabel('Frequency (Hz)')\n",
    "psd_ax.set_ylabel('PSD')\n",
    "psd_ax.set_xlim([100, 500])"
   ]
  },
  {
   "cell_type": "markdown",
   "metadata": {},
   "source": [
    "**c)** What's the difference between the periodogram and the spectrogram? You don't have to look it up, just answer based on what you see in the plots above."
   ]
  },
  {
   "cell_type": "code",
   "execution_count": null,
   "metadata": {},
   "outputs": [],
   "source": [
    "Answer: "
   ]
  },
  {
   "cell_type": "markdown",
   "metadata": {},
   "source": [
    "Let's get back to the drummer and see what the spectrogram and periodogram looks like for the drum recording."
   ]
  },
  {
   "cell_type": "code",
   "execution_count": null,
   "metadata": {},
   "outputs": [],
   "source": [
    "sound_frequency_drums = abs(librosa.stft(sound_drums))\n",
    "sound_frequency_drums_db = librosa.amplitude_to_db(sound_frequency_drums)\n",
    "\n",
    "librosa.display.specshow(sound_frequency_drums_db, sr=sample_rate_drums, x_axis='time', y_axis='hz', vmin = 0)\n",
    "ylim([0, 500])\n",
    "xlabel('Time (s)')\n",
    "ylabel('Frequency (Hz)')\n",
    "cb = colorbar()\n",
    "cb.set_label('dB')"
   ]
  },
  {
   "cell_type": "code",
   "execution_count": null,
   "metadata": {},
   "outputs": [],
   "source": [
    "fig, psd_ax = subplots()\n",
    "\n",
    "frequency, psd = signal.periodogram(sound_drums, sample_rate_drums)\n",
    "psd_ax.plot(frequency, psd)\n",
    "psd_ax.set_xlabel('Frequency (Hz)')\n",
    "psd_ax.set_ylabel('PSD')\n",
    "psd_ax.set_xlim([10, 300])\n",
    "#psd_ax.set_ylim([0, .002])"
   ]
  },
  {
   "cell_type": "markdown",
   "metadata": {},
   "source": [
    "**d)** What do the two bumps in the periodogram correspond to? (You can view the peaks to the left as part of the same bump.)"
   ]
  },
  {
   "cell_type": "code",
   "execution_count": null,
   "metadata": {},
   "outputs": [],
   "source": [
    "Answer:"
   ]
  },
  {
   "cell_type": "markdown",
   "metadata": {},
   "source": [
    "**e)** Why are the bumps more spread out for the drum recording than they were for the signal we constructed above?"
   ]
  },
  {
   "cell_type": "code",
   "execution_count": null,
   "metadata": {},
   "outputs": [],
   "source": [
    "Answer: "
   ]
  },
  {
   "cell_type": "markdown",
   "metadata": {},
   "source": [
    "<!-- --- end solution of exercise --- -->\n",
    "\n",
    "<!-- --- end exercise --- -->\n",
    "\n",
    "\n",
    "## Errors from Sub Sampling\n",
    "Let's make the 440 Hz signal again, but reduce the `sampling_rate` to say 200"
   ]
  },
  {
   "cell_type": "code",
   "execution_count": null,
   "metadata": {},
   "outputs": [],
   "source": [
    "new_sample_rate = 200 # sample pr. second\n",
    "duration = 2.0    # seconds\n",
    "amplitude = 0.5\n",
    "frequency_3 = 440 # Hz\n",
    "n_samples = int(duration * new_sample_rate)\n",
    "time_newSampRate = linspace(0, duration, n_samples) # time array\n",
    "sound_440_newSampRate = amplitude * sin(2 * pi * frequency_3 * time_newSampRate)        # pure sine wave at 440 Hz\n",
    "\n",
    "plot(time_newSampRate, sound_440_newSampRate, '-*')\n",
    "xlim([0, 0.1])\n",
    "xlabel('Time (s)')\n",
    "ylabel('Amplitude')"
   ]
  },
  {
   "cell_type": "code",
   "execution_count": null,
   "metadata": {},
   "outputs": [],
   "source": [
    "sound_frequency_newSampRate = abs(librosa.stft(sound_440_newSampRate))\n",
    "sound_frequency_db_newSampRate = librosa.amplitude_to_db(sound_frequency_newSampRate)\n",
    "\n",
    "fig, (psd_ax, spec_ax) = subplots(1, 2, constrained_layout = True)\n",
    "\n",
    "frequency, psd = signal.periodogram(sound_440_newSampRate, new_sample_rate)\n",
    "psd_ax.plot(frequency, psd)\n",
    "psd_ax.set_xlabel('Frequency (Hz)')\n",
    "psd_ax.set_ylabel('PSD')\n",
    "#psd_ax.set_xlim([0, 500])\n",
    "#psd_ax.set_xlim([1e-12, 1e-0])\n",
    "\n",
    "librosa.display.specshow(sound_frequency_db_newSampRate, sr=new_sample_rate, x_axis='time', y_axis='hz', ax=spec_ax)\n",
    "#spec_ax.set_ylim([0, 100])\n",
    "spec_ax.set_xlabel('Time (s)')\n",
    "spec_ax.set_ylabel('Hz')"
   ]
  },
  {
   "cell_type": "code",
   "execution_count": null,
   "metadata": {},
   "outputs": [],
   "source": [
    "print('Peak frequency is', frequency[psd == psd.max()], 'Hz')"
   ]
  },
  {
   "cell_type": "markdown",
   "metadata": {},
   "source": [
    "<!-- --- begin exercise --- -->\n",
    "\n",
    "## Exercise 5: Discussion\n",
    "\n",
    "What happened here? Why does our analysis say that the signal is a sinusoid\n",
    "at 41 Hz, when we specifically made it to be at 440 Hz?\n",
    "\n",
    "**a)** Run the two cells after the \"answer cell\" and use the plots to explain what happened. Note: The sound can be hard to hear, but it's there."
   ]
  },
  {
   "cell_type": "markdown",
   "metadata": {},
   "source": [
    "Answer:"
   ]
  },
  {
   "cell_type": "code",
   "execution_count": null,
   "metadata": {},
   "outputs": [],
   "source": [
    "ipd.Audio(sound_440_newSampRate, rate=new_sample_rate)"
   ]
  },
  {
   "cell_type": "code",
   "execution_count": null,
   "metadata": {},
   "outputs": [],
   "source": [
    "fig, ax = subplots(ncols = 2, figsize = (14, 5), sharey = True, constrained_layout = True)\n",
    "\n",
    "ax[0].plot(time_newSampRate, sound_440_newSampRate, '*-')\n",
    "ax[1].plot(time_orig, sound_440, '*-')\n",
    "\n",
    "ax[0].set_xlim([0, 0.05])\n",
    "ax[1].set_xlim([0, 0.05])\n",
    "\n",
    "ax[0].set_xlabel('Time (s)')\n",
    "ax[1].set_xlabel('Time (s)')\n",
    "\n",
    "ax[0].set_title('Sound 440 Hz Low Sampling Rate')\n",
    "ax[1].set_title('Sound 440 Hz High Sampling Rate')\n",
    "\n",
    "ax[0].set_ylabel('Amplitude')"
   ]
  },
  {
   "cell_type": "markdown",
   "metadata": {},
   "source": [
    "\n",
    "\n",
    "\n",
    "<!-- --- begin exercise --- -->\n",
    "\n",
    "## Exercise 6: Finding a Good Sampling Frequency\n",
    "\n",
    "Here we will seek empirically for a `sample_rate` that does not make the signal\n",
    "appear to be at the wrong frequency.\n",
    "\n",
    "Increase the `sample_rate` variable in the cell below from 200 Hz up to 1000 Hz until you get the correct peak frequency (440 Hz).\n",
    "\n",
    "**a)** What's the lowest sample rate you need to use to get the correct answer for the peak frequency?"
   ]
  },
  {
   "cell_type": "code",
   "execution_count": null,
   "metadata": {},
   "outputs": [],
   "source": [
    "Answer:"
   ]
  },
  {
   "cell_type": "markdown",
   "metadata": {},
   "source": [
    "**b)** What's the relation between the peak frequency and the sample rate you found in **a)**?"
   ]
  },
  {
   "cell_type": "code",
   "execution_count": null,
   "metadata": {},
   "outputs": [],
   "source": [
    "Answer:"
   ]
  },
  {
   "cell_type": "code",
   "execution_count": null,
   "metadata": {},
   "outputs": [],
   "source": [
    "sample_rate = 200 # sample pr. second\n",
    "\n",
    "duration = 2.0    # seconds\n",
    "amplitude = 0.5\n",
    "frequency_4 = 440\n",
    "n_samples = int(duration * sample_rate)\n",
    "time = linspace(0, duration, n_samples) # time variable\n",
    "sound_440 = amplitude * sin(2 * pi * frequency_4 * time) # pure sine wave at 440 Hz\n",
    "frequency, psd = signal.periodogram(sound_440, sample_rate)\n",
    "\n",
    "fig, (psd_ax, amp_ax) = subplots(1, 2, constrained_layout = True)\n",
    "\n",
    "amp_ax.plot(time, sound_440)\n",
    "amp_ax.set_xlabel('Time (s)')\n",
    "amp_ax.set_ylabel('Amplitude')\n",
    "amp_ax.set_title('Sampled signal over time')\n",
    "\n",
    "\n",
    "peak_freq = frequency[psd == psd.max()]\n",
    "psd_ax.plot(frequency, psd, label='Peak: {} Hz'.format(float(peak_freq)))\n",
    "psd_ax.set_title('Periodogram')\n",
    "psd_ax.set_xlabel('Frequency (Hz)')\n",
    "psd_ax.set_ylabel('PSD')\n",
    "psd_ax.set_xlim([0, 800])\n",
    "psd_ax.legend()\n",
    "\n",
    "peak_frequency = frequency[psd == psd.max()]\n",
    "print('Peak frequency is', peak_frequency, 'Hz')"
   ]
  },
  {
   "cell_type": "markdown",
   "metadata": {},
   "source": [
    "<!-- --- end solution of exercise --- -->\n",
    "\n",
    "<!-- Closing remarks for this Exercise -->\n",
    "\n",
    "### Remarks\n",
    "\n",
    "When the sampling rate is at its minimum in order to retain the correct\n",
    "frequency of the signal, the signal still looks distorted when plotted in time.\n",
    "However, there is no loss of information, which can be seen from the periodogram.\n",
    "This is weird. The signal looks messed up, but it's actually not.\n",
    "\n",
    "This is because we know it is a sinusoid, therefore we may use that information\n",
    "when interpolating between the lines. That is, we know that the signal is a sinusoid, and we know what its frequency is supposed to be, so we don't need to draw it as we did in the plot above - as lines between the sampled dots - we can construct a new sinusoid with more points and with that frequency instead. This is illustrated in the next cell. \n",
    "\n",
    "This also applies when the original signal itself is not a sinusoid, but rather, a ramp, or a boxcar function (a square), for example. This goes back to the fact that any continuous signal, even if it is a square, can be represented as a sum of sinusoids. So even though the original signal itself isn't sinusoidal, the components used in its reconstruction are. And this fact together with knowing their frequencies is all we need to reconstruct the signal without loss of information.\n",
    "\n",
    "And as we will discuss below, there is only one sinusoid that fit as long as the sampling rate is double that of the highest frequency. This is called the **Nyquist-Shannon sampling theorem** and this is a very important concept in signal analysis."
   ]
  },
  {
   "cell_type": "code",
   "execution_count": null,
   "metadata": {},
   "outputs": [],
   "source": [
    "# Adding points in between measured points (this is called interpolation)\n",
    "npoints = 100000\n",
    "time_reconstructed_sound_440 = linspace(0, duration, npoints)\n",
    "\n",
    "\n",
    "reconstructed_sound_440 = amplitude * sin(2 * pi * peak_frequency * time_reconstructed_sound_440) # pure sine wave at 440 Hz\n",
    "\n",
    "fig, ax = subplots()\n",
    "\n",
    "ax.plot(time_reconstructed_sound_440, reconstructed_sound_440)\n",
    "ax.set_xlim([0, 0.1])\n",
    "ax.set_xlabel('Time (s)')\n",
    "ax.set_title('Reconstructed 440 Hz sound')"
   ]
  },
  {
   "cell_type": "markdown",
   "metadata": {},
   "source": [
    "## Why this relation between sampling rate and signal frequency\n",
    "The reasoning goes like this:\n",
    "1. A signal can be completely described by a series of sinusoids at different\n",
    "frequencies (Fourier series)\n",
    "2. When sampling a signal, the sinusoid with the highest frequency gets the fewest samples pr period.\n",
    "3. If we can reconstruct the sinusoid with the highest frequency, we can\n",
    "reconstruct the lower frequencies as well.\n",
    "4. If you have 2 measured points (or more) per period you can reconstruct a\n",
    "sinusoid.\n",
    "\n",
    "This will give you a sampling frequency that is twice than that of the highest\n",
    "frequency in the signal you measure.\n",
    "\n",
    "If we plot ten periods of the \"real\" 440 Hz signal overlaid with the low\n",
    "sampling version, we can see that the blue points fit exactly on the orange\n",
    "line. It can further be shown that in the range [0, 440] Hz, this is the only\n",
    "line that fits exactly."
   ]
  },
  {
   "cell_type": "code",
   "execution_count": null,
   "metadata": {},
   "outputs": [],
   "source": [
    "duration = 2.0    # seconds\n",
    "amplitude = 0.5\n",
    "\n",
    "frequency_real = 440\n",
    "sample_rate_real = 10000 # sample pr. second\n",
    "n_samples_real = int(duration * sample_rate_real)\n",
    "time_real = linspace(0, duration, n_samples_real) # time variable\n",
    "sound_real = amplitude * sin(2 * pi * frequency_real * time_real) # pure sine wave at 440 Hz\n",
    "\n",
    "\n",
    "frequency_low = 440\n",
    "sample_rate_low = 880 # sample pr. second\n",
    "n_samples_low = int(duration * sample_rate_low)\n",
    "time_low = linspace(0, duration, n_samples_low) # time variable\n",
    "sound_low = amplitude * sin(2 * pi * frequency_low * time_low) # pure sine wave at 440 Hz\n",
    "\n",
    "plot(time_low, sound_low, '-*', zorder=1)\n",
    "plot(time_real, sound_real, zorder=0)\n",
    "xlim([100 / frequency_low, 110 / frequency_low])"
   ]
  },
  {
   "cell_type": "markdown",
   "metadata": {},
   "source": [
    "<!-- --- begin exercise --- -->\n",
    "\n",
    "## Exercise 7: Practical consquences\n",
    "\n",
    "You measure the heart rate from a rat, the maximum heart rate you can think of\n",
    "is 400 beats/min.\n",
    "\n",
    "What sampling rate would you choose in order to be sure to measure the\n",
    "correct heart rate?\n",
    "\n",
    "<!-- --- end exercise --- -->"
   ]
  },
  {
   "cell_type": "code",
   "execution_count": null,
   "metadata": {},
   "outputs": [],
   "source": [
    "Answer:"
   ]
  }
 ],
 "metadata": {
  "kernelspec": {
   "display_name": "Python 3",
   "language": "python",
   "name": "python3"
  },
  "language_info": {
   "codemirror_mode": {
    "name": "ipython",
    "version": 3
   },
   "file_extension": ".py",
   "mimetype": "text/x-python",
   "name": "python",
   "nbconvert_exporter": "python",
   "pygments_lexer": "ipython3",
   "version": "3.7.3"
  }
 },
 "nbformat": 4,
 "nbformat_minor": 2
}
